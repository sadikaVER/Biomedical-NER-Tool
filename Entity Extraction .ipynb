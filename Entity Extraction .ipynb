{
 "cells": [
  {
   "cell_type": "code",
   "execution_count": 1,
   "id": "5243c365",
   "metadata": {},
   "outputs": [],
   "source": [
    "import pandas as pd\n",
    "# Load MetaMap\n",
    "from pymetamap import MetaMap\n",
    "\n",
    "# Import os to make system calls\n",
    "import os,re\n",
    "\n",
    "# For pausing\n",
    "from time import sleep\n",
    "from pprint import pprint"
   ]
  },
  {
   "cell_type": "code",
   "execution_count": 2,
   "id": "039abb81",
   "metadata": {},
   "outputs": [],
   "source": [
    "path=os.getcwd() # for current path"
   ]
  },
  {
   "cell_type": "code",
   "execution_count": 3,
   "id": "579eddd4",
   "metadata": {},
   "outputs": [],
   "source": [
    "def metamap(label):\n",
    "    os.system(metamap_base_dir + metamap_pos_server_dir +\" \"+label) # Part of speech tagger\n",
    "    os.system(metamap_base_dir + metamap_wsd_server_dir +\" \"+label) # Word sense disambiguation \n",
    "\n"
   ]
  },
  {
   "cell_type": "code",
   "execution_count": 4,
   "id": "21544cae",
   "metadata": {},
   "outputs": [
    {
     "name": "stdout",
     "output_type": "stream",
     "text": [
      "$Starting skrmedpostctl: \n",
      "started.\n",
      "$Starting wsdserverctl: \n",
      "started.\n",
      "loading properties file /home/sadika/public_mm/WSD_Server/config/disambServer.cfg\n",
      "WSD Server initializing disambiguation methods.\n",
      "WSD Server databases and disambiguation methods have been initialized.\n"
     ]
    }
   ],
   "source": [
    "\n",
    "\n",
    "# Setup UMLS Server\n",
    "metamap_base_dir = path+'/public_mm/'\n",
    "metamap_bin_dir = 'bin/metamap'\n",
    "metamap_pos_server_dir = 'bin/skrmedpostctl'\n",
    "metamap_wsd_server_dir = 'bin/wsdserverctl'\n",
    "\n",
    "# Start servers\n",
    "metamap('start')\n",
    "# Sleep a bit to give time for these servers to start up\n",
    "sleep(60)"
   ]
  },
  {
   "cell_type": "code",
   "execution_count": null,
   "id": "f532bbf4",
   "metadata": {},
   "outputs": [],
   "source": []
  },
  {
   "cell_type": "code",
   "execution_count": 5,
   "id": "eff3459e",
   "metadata": {},
   "outputs": [],
   "source": [
    "sentence = \"BRCA1 gene causes predisposition to breast cancer and ovarian cancer\"\n"
   ]
  },
  {
   "cell_type": "code",
   "execution_count": 6,
   "id": "f5b01bde",
   "metadata": {},
   "outputs": [],
   "source": [
    "# Concept identification\n",
    "def concept_identification(sentence):\n",
    "   os.system(\"echo \"+sentence+\" | \"+metamap_base_dir+\"/\"+metamap_bin_dir+\" -I >\"+path+\"/out.txt\")\n",
    "\n",
    "   \n",
    "def parse_metamap(filename):\n",
    " \n",
    "        sema_type=[]\n",
    "        cptnm=[]\n",
    "        uid=[]   \n",
    "        with open(filename,encoding='utf-8') as fl:\n",
    "            for lines in (fl):\n",
    "                regex=re.findall(\"^\\s+\\d{3,4}\",lines)\n",
    "                if bool(regex)==True:\n",
    "                   \n",
    "                    concept_name=re.findall(\":[a-zA-Z0-9\\s]*\",lines)\n",
    "                    cptnm.append(concept_name[0].lstrip(\":\").lower())\n",
    "                  \n",
    "                    cid=re.findall(\"C\\d+\",lines.strip()) \n",
    "                    if cid[0] not in uid:\n",
    "                        uid.append(cid[0]) \n",
    "                        semantic_type=re.findall(\"\\[(.*?)\\]\",lines)\n",
    "                        if len(semantic_type)>1:\n",
    "                            for item in semantic_type:\n",
    "                                if item in umls_semantic:\n",
    "                                    sema_type.append(item)\n",
    "                            \n",
    "                        else:\n",
    "                            sema_type.append(semantic_type[0]) \n",
    "\n",
    "                    \n",
    "    \n",
    "      \n",
    "\n",
    "              \n",
    "        return cptnm,sema_type\n",
    "   \n"
   ]
  },
  {
   "cell_type": "code",
   "execution_count": 7,
   "id": "461da733",
   "metadata": {},
   "outputs": [
    {
     "name": "stderr",
     "output_type": "stream",
     "text": [
      "Berkeley DB databases (USAbase 2020AA strict model) are open.\n",
      "Static variants will come from table varsan in /home/sadika/public_mm/DB/DB.USAbase.2020AA.strict.\n",
      "Derivational Variants: Adj/noun ONLY.\n",
      "Variant generation mode: static.\n",
      "Established connection $stream(139848377257280) to TAGGER Server on localhost.\n",
      "\n",
      "metamap (2020)\n",
      "\n",
      "Control options:\n",
      "  composite_phrases=4\n",
      "  lexicon=db\n",
      "  mm_data_year=2020AA\n",
      "  show_cuis\n"
     ]
    },
    {
     "name": "stdout",
     "output_type": "stream",
     "text": [
      "['brca 1 gene ', 'causes ', 'causes ', 'cause ', 'breast cancer predisposition ', 'ovarian cancer ', 'ovarian cancer ', 'ovarian cancer '] ['Gene or Genome', 'Functional Concept', 'Functional Concept', 'Conceptual Entity', 'Finding', 'Neoplastic Process', 'Neoplastic Process', 'Neoplastic Process']\n"
     ]
    }
   ],
   "source": [
    "concept_identification(sentence)\n",
    "cptnm,cpt_sem=parse_metamap(path+\"/out.txt\")\n",
    "print(cptnm,cpt_sem)"
   ]
  },
  {
   "cell_type": "code",
   "execution_count": 8,
   "id": "b33f7e25",
   "metadata": {},
   "outputs": [
    {
     "name": "stdout",
     "output_type": "stream",
     "text": [
      "$Stopping skrmedpostctl: \n",
      "Stopping Tagger Server process..\n",
      "Process 11422 stopped\n",
      "$Stopping wsdserverctl: \n",
      "Stopping WSD Server process..\n",
      "Process 11425 stopped\n"
     ]
    }
   ],
   "source": [
    "# Stop servers\n",
    "\n",
    "metamap('stop')"
   ]
  },
  {
   "cell_type": "code",
   "execution_count": 9,
   "id": "5f2fb0a5",
   "metadata": {},
   "outputs": [
    {
     "data": {
      "text/html": [
       "<div>\n",
       "<style scoped>\n",
       "    .dataframe tbody tr th:only-of-type {\n",
       "        vertical-align: middle;\n",
       "    }\n",
       "\n",
       "    .dataframe tbody tr th {\n",
       "        vertical-align: top;\n",
       "    }\n",
       "\n",
       "    .dataframe thead th {\n",
       "        text-align: right;\n",
       "    }\n",
       "</style>\n",
       "<table border=\"1\" class=\"dataframe\">\n",
       "  <thead>\n",
       "    <tr style=\"text-align: right;\">\n",
       "      <th></th>\n",
       "      <th>semantic_type</th>\n",
       "      <th>Concepts</th>\n",
       "    </tr>\n",
       "  </thead>\n",
       "  <tbody>\n",
       "    <tr>\n",
       "      <th>0</th>\n",
       "      <td>Gene or Genome</td>\n",
       "      <td>brca 1 gene</td>\n",
       "    </tr>\n",
       "    <tr>\n",
       "      <th>1</th>\n",
       "      <td>Functional Concept</td>\n",
       "      <td>causes</td>\n",
       "    </tr>\n",
       "    <tr>\n",
       "      <th>3</th>\n",
       "      <td>Conceptual Entity</td>\n",
       "      <td>cause</td>\n",
       "    </tr>\n",
       "    <tr>\n",
       "      <th>4</th>\n",
       "      <td>Finding</td>\n",
       "      <td>breast cancer predisposition</td>\n",
       "    </tr>\n",
       "    <tr>\n",
       "      <th>5</th>\n",
       "      <td>Neoplastic Process</td>\n",
       "      <td>ovarian cancer</td>\n",
       "    </tr>\n",
       "  </tbody>\n",
       "</table>\n",
       "</div>"
      ],
      "text/plain": [
       "        semantic_type                       Concepts\n",
       "0      Gene or Genome                   brca 1 gene \n",
       "1  Functional Concept                        causes \n",
       "3   Conceptual Entity                         cause \n",
       "4             Finding  breast cancer predisposition \n",
       "5  Neoplastic Process                ovarian cancer "
      ]
     },
     "execution_count": 9,
     "metadata": {},
     "output_type": "execute_result"
    }
   ],
   "source": [
    "df=pd.DataFrame(cptnm,cpt_sem)\n",
    "df.reset_index(level=0, inplace=True)\n",
    "df.rename(columns={0:'Concepts','index': 'semantic_type'}, inplace=True)\n",
    "df=df.drop_duplicates()\n",
    "df"
   ]
  }
 ],
 "metadata": {
  "kernelspec": {
   "display_name": "Python 3 (ipykernel)",
   "language": "python",
   "name": "python3"
  },
  "language_info": {
   "codemirror_mode": {
    "name": "ipython",
    "version": 3
   },
   "file_extension": ".py",
   "mimetype": "text/x-python",
   "name": "python",
   "nbconvert_exporter": "python",
   "pygments_lexer": "ipython3",
   "version": "3.9.12"
  }
 },
 "nbformat": 4,
 "nbformat_minor": 5
}
